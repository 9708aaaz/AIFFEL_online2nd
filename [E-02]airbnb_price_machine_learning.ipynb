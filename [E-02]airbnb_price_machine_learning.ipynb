{
 "cells": [
  {
   "cell_type": "markdown",
   "id": "800ba076",
   "metadata": {},
   "source": [
    "# 프로젝트 목적   \n",
    "\n",
    "## Airbnb(New york) 데이터로 최적의 price를 찾는 머신러닝에서 MSE Score를 51만점 이하로 낮춰보자 "
   ]
  },
  {
   "cell_type": "markdown",
   "id": "49645474",
   "metadata": {},
   "source": [
    "# 1. Baseline"
   ]
  },
  {
   "cell_type": "code",
   "execution_count": 71,
   "id": "c6cdeea1",
   "metadata": {},
   "outputs": [],
   "source": [
    "# 라이브러리 \n",
    "import pandas as pd\n",
    "import numpy as np\n",
    "import seaborn as sns\n",
    "import matplotlib.pylab as plt"
   ]
  },
  {
   "cell_type": "code",
   "execution_count": 72,
   "id": "d3da8d70",
   "metadata": {},
   "outputs": [],
   "source": [
    "# 데이터 불러오기\n",
    "train = pd.read_csv('/aiffel/data/train.csv')\n",
    "test = pd.read_csv('/aiffel/data/test.csv')"
   ]
  },
  {
   "cell_type": "markdown",
   "id": "38218b41",
   "metadata": {},
   "source": [
    "# 2. EDA (탐색적 데이터 분석)"
   ]
  },
  {
   "cell_type": "code",
   "execution_count": 73,
   "id": "a4f5046f",
   "metadata": {},
   "outputs": [
    {
     "data": {
      "text/plain": [
       "((39116, 16), (9779, 15))"
      ]
     },
     "execution_count": 73,
     "metadata": {},
     "output_type": "execute_result"
    }
   ],
   "source": [
    "# 데이터 크기\n",
    "train.shape, test.shape"
   ]
  },
  {
   "cell_type": "code",
   "execution_count": 74,
   "id": "21477fea",
   "metadata": {
    "scrolled": true
   },
   "outputs": [
    {
     "data": {
      "text/html": [
       "<div>\n",
       "<style scoped>\n",
       "    .dataframe tbody tr th:only-of-type {\n",
       "        vertical-align: middle;\n",
       "    }\n",
       "\n",
       "    .dataframe tbody tr th {\n",
       "        vertical-align: top;\n",
       "    }\n",
       "\n",
       "    .dataframe thead th {\n",
       "        text-align: right;\n",
       "    }\n",
       "</style>\n",
       "<table border=\"1\" class=\"dataframe\">\n",
       "  <thead>\n",
       "    <tr style=\"text-align: right;\">\n",
       "      <th></th>\n",
       "      <th>id</th>\n",
       "      <th>name</th>\n",
       "      <th>host_id</th>\n",
       "      <th>host_name</th>\n",
       "      <th>neighbourhood_group</th>\n",
       "      <th>neighbourhood</th>\n",
       "      <th>latitude</th>\n",
       "      <th>longitude</th>\n",
       "      <th>room_type</th>\n",
       "      <th>price</th>\n",
       "      <th>minimum_nights</th>\n",
       "      <th>number_of_reviews</th>\n",
       "      <th>last_review</th>\n",
       "      <th>reviews_per_month</th>\n",
       "      <th>calculated_host_listings_count</th>\n",
       "      <th>availability_365</th>\n",
       "    </tr>\n",
       "  </thead>\n",
       "  <tbody>\n",
       "    <tr>\n",
       "      <th>0</th>\n",
       "      <td>14963583</td>\n",
       "      <td>Room in South Harlem near Central Park</td>\n",
       "      <td>94219511</td>\n",
       "      <td>Gilles</td>\n",
       "      <td>Manhattan</td>\n",
       "      <td>Harlem</td>\n",
       "      <td>40.80167</td>\n",
       "      <td>-73.95781</td>\n",
       "      <td>Private room</td>\n",
       "      <td>70</td>\n",
       "      <td>3</td>\n",
       "      <td>3</td>\n",
       "      <td>2019-01-01</td>\n",
       "      <td>0.09</td>\n",
       "      <td>2</td>\n",
       "      <td>0</td>\n",
       "    </tr>\n",
       "    <tr>\n",
       "      <th>1</th>\n",
       "      <td>9458704</td>\n",
       "      <td>Large 1BR Apartment, near Times Sq (2nd Floor)</td>\n",
       "      <td>49015331</td>\n",
       "      <td>Iradj</td>\n",
       "      <td>Manhattan</td>\n",
       "      <td>Hell's Kitchen</td>\n",
       "      <td>40.76037</td>\n",
       "      <td>-73.99016</td>\n",
       "      <td>Entire home/apt</td>\n",
       "      <td>240</td>\n",
       "      <td>2</td>\n",
       "      <td>64</td>\n",
       "      <td>2019-06-30</td>\n",
       "      <td>1.68</td>\n",
       "      <td>2</td>\n",
       "      <td>262</td>\n",
       "    </tr>\n",
       "  </tbody>\n",
       "</table>\n",
       "</div>"
      ],
      "text/plain": [
       "         id                                            name   host_id  \\\n",
       "0  14963583          Room in South Harlem near Central Park  94219511   \n",
       "1   9458704  Large 1BR Apartment, near Times Sq (2nd Floor)  49015331   \n",
       "\n",
       "  host_name neighbourhood_group   neighbourhood  latitude  longitude  \\\n",
       "0    Gilles           Manhattan          Harlem  40.80167  -73.95781   \n",
       "1     Iradj           Manhattan  Hell's Kitchen  40.76037  -73.99016   \n",
       "\n",
       "         room_type  price  minimum_nights  number_of_reviews last_review  \\\n",
       "0     Private room     70               3                  3  2019-01-01   \n",
       "1  Entire home/apt    240               2                 64  2019-06-30   \n",
       "\n",
       "   reviews_per_month  calculated_host_listings_count  availability_365  \n",
       "0               0.09                               2                 0  \n",
       "1               1.68                               2               262  "
      ]
     },
     "metadata": {},
     "output_type": "display_data"
    },
    {
     "data": {
      "text/html": [
       "<div>\n",
       "<style scoped>\n",
       "    .dataframe tbody tr th:only-of-type {\n",
       "        vertical-align: middle;\n",
       "    }\n",
       "\n",
       "    .dataframe tbody tr th {\n",
       "        vertical-align: top;\n",
       "    }\n",
       "\n",
       "    .dataframe thead th {\n",
       "        text-align: right;\n",
       "    }\n",
       "</style>\n",
       "<table border=\"1\" class=\"dataframe\">\n",
       "  <thead>\n",
       "    <tr style=\"text-align: right;\">\n",
       "      <th></th>\n",
       "      <th>id</th>\n",
       "      <th>name</th>\n",
       "      <th>host_id</th>\n",
       "      <th>host_name</th>\n",
       "      <th>neighbourhood_group</th>\n",
       "      <th>neighbourhood</th>\n",
       "      <th>latitude</th>\n",
       "      <th>longitude</th>\n",
       "      <th>room_type</th>\n",
       "      <th>minimum_nights</th>\n",
       "      <th>number_of_reviews</th>\n",
       "      <th>last_review</th>\n",
       "      <th>reviews_per_month</th>\n",
       "      <th>calculated_host_listings_count</th>\n",
       "      <th>availability_365</th>\n",
       "    </tr>\n",
       "  </thead>\n",
       "  <tbody>\n",
       "    <tr>\n",
       "      <th>0</th>\n",
       "      <td>30913224</td>\n",
       "      <td>Cozy and Sunny Room Williamsburg, Luxury Building</td>\n",
       "      <td>33771081</td>\n",
       "      <td>Rémy</td>\n",
       "      <td>Brooklyn</td>\n",
       "      <td>Williamsburg</td>\n",
       "      <td>40.70959</td>\n",
       "      <td>-73.94652</td>\n",
       "      <td>Private room</td>\n",
       "      <td>3</td>\n",
       "      <td>2</td>\n",
       "      <td>2019-05-08</td>\n",
       "      <td>0.31</td>\n",
       "      <td>1</td>\n",
       "      <td>0</td>\n",
       "    </tr>\n",
       "    <tr>\n",
       "      <th>1</th>\n",
       "      <td>971247</td>\n",
       "      <td>Sunny Artist Live/Work Apartment</td>\n",
       "      <td>5308961</td>\n",
       "      <td>Larry</td>\n",
       "      <td>Manhattan</td>\n",
       "      <td>Upper West Side</td>\n",
       "      <td>40.79368</td>\n",
       "      <td>-73.96487</td>\n",
       "      <td>Entire home/apt</td>\n",
       "      <td>3</td>\n",
       "      <td>159</td>\n",
       "      <td>2019-07-03</td>\n",
       "      <td>2.09</td>\n",
       "      <td>1</td>\n",
       "      <td>244</td>\n",
       "    </tr>\n",
       "  </tbody>\n",
       "</table>\n",
       "</div>"
      ],
      "text/plain": [
       "         id                                               name   host_id  \\\n",
       "0  30913224  Cozy and Sunny Room Williamsburg, Luxury Building  33771081   \n",
       "1    971247                   Sunny Artist Live/Work Apartment   5308961   \n",
       "\n",
       "  host_name neighbourhood_group    neighbourhood  latitude  longitude  \\\n",
       "0      Rémy            Brooklyn     Williamsburg  40.70959  -73.94652   \n",
       "1     Larry           Manhattan  Upper West Side  40.79368  -73.96487   \n",
       "\n",
       "         room_type  minimum_nights  number_of_reviews last_review  \\\n",
       "0     Private room               3                  2  2019-05-08   \n",
       "1  Entire home/apt               3                159  2019-07-03   \n",
       "\n",
       "   reviews_per_month  calculated_host_listings_count  availability_365  \n",
       "0               0.31                               1                 0  \n",
       "1               2.09                               1               244  "
      ]
     },
     "metadata": {},
     "output_type": "display_data"
    }
   ],
   "source": [
    "# 데이터 샘플\n",
    "display(train.head(2))\n",
    "display(test.head(2))"
   ]
  },
  {
   "cell_type": "code",
   "execution_count": 75,
   "id": "acd87e10",
   "metadata": {
    "scrolled": true
   },
   "outputs": [
    {
     "data": {
      "text/plain": [
       "id                                   0\n",
       "name                                12\n",
       "host_id                              0\n",
       "host_name                           17\n",
       "neighbourhood_group                  0\n",
       "neighbourhood                        0\n",
       "latitude                             0\n",
       "longitude                            0\n",
       "room_type                            0\n",
       "price                                0\n",
       "minimum_nights                       0\n",
       "number_of_reviews                    0\n",
       "last_review                       7994\n",
       "reviews_per_month                 7994\n",
       "calculated_host_listings_count       0\n",
       "availability_365                     0\n",
       "dtype: int64"
      ]
     },
     "execution_count": 75,
     "metadata": {},
     "output_type": "execute_result"
    }
   ],
   "source": [
    "# 결측치(train)\n",
    "train.isnull().sum()"
   ]
  },
  {
   "cell_type": "code",
   "execution_count": 76,
   "id": "79aca1f5",
   "metadata": {
    "scrolled": true
   },
   "outputs": [
    {
     "name": "stdout",
     "output_type": "stream",
     "text": [
      "<class 'pandas.core.frame.DataFrame'>\n",
      "RangeIndex: 39116 entries, 0 to 39115\n",
      "Data columns (total 16 columns):\n",
      " #   Column                          Non-Null Count  Dtype  \n",
      "---  ------                          --------------  -----  \n",
      " 0   id                              39116 non-null  int64  \n",
      " 1   name                            39104 non-null  object \n",
      " 2   host_id                         39116 non-null  int64  \n",
      " 3   host_name                       39099 non-null  object \n",
      " 4   neighbourhood_group             39116 non-null  object \n",
      " 5   neighbourhood                   39116 non-null  object \n",
      " 6   latitude                        39116 non-null  float64\n",
      " 7   longitude                       39116 non-null  float64\n",
      " 8   room_type                       39116 non-null  object \n",
      " 9   price                           39116 non-null  int64  \n",
      " 10  minimum_nights                  39116 non-null  int64  \n",
      " 11  number_of_reviews               39116 non-null  int64  \n",
      " 12  last_review                     31122 non-null  object \n",
      " 13  reviews_per_month               31122 non-null  float64\n",
      " 14  calculated_host_listings_count  39116 non-null  int64  \n",
      " 15  availability_365                39116 non-null  int64  \n",
      "dtypes: float64(3), int64(7), object(6)\n",
      "memory usage: 4.8+ MB\n"
     ]
    }
   ],
   "source": [
    "# 데이터 타입\n",
    "train.info()"
   ]
  },
  {
   "cell_type": "code",
   "execution_count": 77,
   "id": "eda2f3d2",
   "metadata": {
    "scrolled": true
   },
   "outputs": [
    {
     "data": {
      "text/plain": [
       "id                                   0\n",
       "name                                 4\n",
       "host_id                              0\n",
       "host_name                            4\n",
       "neighbourhood_group                  0\n",
       "neighbourhood                        0\n",
       "latitude                             0\n",
       "longitude                            0\n",
       "room_type                            0\n",
       "minimum_nights                       0\n",
       "number_of_reviews                    0\n",
       "last_review                       2058\n",
       "reviews_per_month                 2058\n",
       "calculated_host_listings_count       0\n",
       "availability_365                     0\n",
       "dtype: int64"
      ]
     },
     "execution_count": 77,
     "metadata": {},
     "output_type": "execute_result"
    }
   ],
   "source": [
    "# 결측치(test)\n",
    "test.isnull().sum()"
   ]
  },
  {
   "cell_type": "code",
   "execution_count": 78,
   "id": "e7aebebb",
   "metadata": {
    "scrolled": true
   },
   "outputs": [
    {
     "data": {
      "text/plain": [
       "<AxesSubplot:>"
      ]
     },
     "execution_count": 78,
     "metadata": {},
     "output_type": "execute_result"
    },
    {
     "data": {
      "image/png": "[encoded data removed]",
      "text/plain": [
       "<Figure size 1080x576 with 1 Axes>"
      ]
     },
     "metadata": {
      "needs_background": "light"
     },
     "output_type": "display_data"
    }
   ],
   "source": [
    "# target(hist)\n",
    "train['price'].hist(bins=100, figsize=(15,8))"
   ]
  },
  {
   "cell_type": "markdown",
   "id": "5d8cd962",
   "metadata": {},
   "source": [
    "#### <span style='color: green'> 히스토그램을 통해 숙박비의 대략적인 분포를 알 수 있다.  </span> "
   ]
  },
  {
   "cell_type": "code",
   "execution_count": 79,
   "id": "0b9687df",
   "metadata": {
    "scrolled": true
   },
   "outputs": [
    {
     "data": {
      "text/plain": [
       "count    39116.000000\n",
       "mean       152.751150\n",
       "std        241.752501\n",
       "min          0.000000\n",
       "25%         69.000000\n",
       "50%        105.000000\n",
       "75%        175.000000\n",
       "max      10000.000000\n",
       "Name: price, dtype: float64"
      ]
     },
     "execution_count": 79,
     "metadata": {},
     "output_type": "execute_result"
    }
   ],
   "source": [
    "# target(describe)\n",
    "train['price'].describe()"
   ]
  },
  {
   "cell_type": "markdown",
   "id": "b8735a2e",
   "metadata": {},
   "source": [
    " ####  <span style='color:green'> price는 수치형 데이터이기 때문에 describe를 통해 기술 통계 정보를 확인한다. </span>\n",
    " #### <span style='color:green'> 숙박비의 평균은 152USD 이며 분산은 241로, 숙박비는 최솟값 0에서 최댓값 10000 사이에 분포한다. </span>  "
   ]
  },
  {
   "cell_type": "code",
   "execution_count": 80,
   "id": "b10435d8",
   "metadata": {
    "scrolled": true
   },
   "outputs": [
    {
     "data": {
      "text/html": [
       "<div>\n",
       "<style scoped>\n",
       "    .dataframe tbody tr th:only-of-type {\n",
       "        vertical-align: middle;\n",
       "    }\n",
       "\n",
       "    .dataframe tbody tr th {\n",
       "        vertical-align: top;\n",
       "    }\n",
       "\n",
       "    .dataframe thead th {\n",
       "        text-align: right;\n",
       "    }\n",
       "</style>\n",
       "<table border=\"1\" class=\"dataframe\">\n",
       "  <thead>\n",
       "    <tr style=\"text-align: right;\">\n",
       "      <th></th>\n",
       "      <th>id</th>\n",
       "      <th>host_id</th>\n",
       "      <th>latitude</th>\n",
       "      <th>longitude</th>\n",
       "      <th>price</th>\n",
       "      <th>minimum_nights</th>\n",
       "      <th>number_of_reviews</th>\n",
       "      <th>reviews_per_month</th>\n",
       "      <th>calculated_host_listings_count</th>\n",
       "      <th>availability_365</th>\n",
       "    </tr>\n",
       "  </thead>\n",
       "  <tbody>\n",
       "    <tr>\n",
       "      <th>id</th>\n",
       "      <td>1.000000</td>\n",
       "      <td>0.591261</td>\n",
       "      <td>-0.002445</td>\n",
       "      <td>0.092199</td>\n",
       "      <td>0.009364</td>\n",
       "      <td>-0.011869</td>\n",
       "      <td>-0.319121</td>\n",
       "      <td>0.292461</td>\n",
       "      <td>0.132020</td>\n",
       "      <td>0.085416</td>\n",
       "    </tr>\n",
       "    <tr>\n",
       "      <th>host_id</th>\n",
       "      <td>0.591261</td>\n",
       "      <td>1.000000</td>\n",
       "      <td>0.020077</td>\n",
       "      <td>0.129314</td>\n",
       "      <td>0.013407</td>\n",
       "      <td>-0.016550</td>\n",
       "      <td>-0.141992</td>\n",
       "      <td>0.295881</td>\n",
       "      <td>0.152545</td>\n",
       "      <td>0.201772</td>\n",
       "    </tr>\n",
       "    <tr>\n",
       "      <th>latitude</th>\n",
       "      <td>-0.002445</td>\n",
       "      <td>0.020077</td>\n",
       "      <td>1.000000</td>\n",
       "      <td>0.082819</td>\n",
       "      <td>0.034243</td>\n",
       "      <td>0.026376</td>\n",
       "      <td>-0.010896</td>\n",
       "      <td>-0.004768</td>\n",
       "      <td>0.020802</td>\n",
       "      <td>-0.006414</td>\n",
       "    </tr>\n",
       "    <tr>\n",
       "      <th>longitude</th>\n",
       "      <td>0.092199</td>\n",
       "      <td>0.129314</td>\n",
       "      <td>0.082819</td>\n",
       "      <td>1.000000</td>\n",
       "      <td>-0.149165</td>\n",
       "      <td>-0.061787</td>\n",
       "      <td>0.059188</td>\n",
       "      <td>0.143867</td>\n",
       "      <td>-0.114195</td>\n",
       "      <td>0.087417</td>\n",
       "    </tr>\n",
       "    <tr>\n",
       "      <th>price</th>\n",
       "      <td>0.009364</td>\n",
       "      <td>0.013407</td>\n",
       "      <td>0.034243</td>\n",
       "      <td>-0.149165</td>\n",
       "      <td>1.000000</td>\n",
       "      <td>0.037318</td>\n",
       "      <td>-0.047780</td>\n",
       "      <td>-0.032975</td>\n",
       "      <td>0.056301</td>\n",
       "      <td>0.083983</td>\n",
       "    </tr>\n",
       "    <tr>\n",
       "      <th>minimum_nights</th>\n",
       "      <td>-0.011869</td>\n",
       "      <td>-0.016550</td>\n",
       "      <td>0.026376</td>\n",
       "      <td>-0.061787</td>\n",
       "      <td>0.037318</td>\n",
       "      <td>1.000000</td>\n",
       "      <td>-0.078471</td>\n",
       "      <td>-0.115527</td>\n",
       "      <td>0.130441</td>\n",
       "      <td>0.141984</td>\n",
       "    </tr>\n",
       "    <tr>\n",
       "      <th>number_of_reviews</th>\n",
       "      <td>-0.319121</td>\n",
       "      <td>-0.141992</td>\n",
       "      <td>-0.010896</td>\n",
       "      <td>0.059188</td>\n",
       "      <td>-0.047780</td>\n",
       "      <td>-0.078471</td>\n",
       "      <td>1.000000</td>\n",
       "      <td>0.547786</td>\n",
       "      <td>-0.072237</td>\n",
       "      <td>0.172597</td>\n",
       "    </tr>\n",
       "    <tr>\n",
       "      <th>reviews_per_month</th>\n",
       "      <td>0.292461</td>\n",
       "      <td>0.295881</td>\n",
       "      <td>-0.004768</td>\n",
       "      <td>0.143867</td>\n",
       "      <td>-0.032975</td>\n",
       "      <td>-0.115527</td>\n",
       "      <td>0.547786</td>\n",
       "      <td>1.000000</td>\n",
       "      <td>-0.011055</td>\n",
       "      <td>0.184217</td>\n",
       "    </tr>\n",
       "    <tr>\n",
       "      <th>calculated_host_listings_count</th>\n",
       "      <td>0.132020</td>\n",
       "      <td>0.152545</td>\n",
       "      <td>0.020802</td>\n",
       "      <td>-0.114195</td>\n",
       "      <td>0.056301</td>\n",
       "      <td>0.130441</td>\n",
       "      <td>-0.072237</td>\n",
       "      <td>-0.011055</td>\n",
       "      <td>1.000000</td>\n",
       "      <td>0.225041</td>\n",
       "    </tr>\n",
       "    <tr>\n",
       "      <th>availability_365</th>\n",
       "      <td>0.085416</td>\n",
       "      <td>0.201772</td>\n",
       "      <td>-0.006414</td>\n",
       "      <td>0.087417</td>\n",
       "      <td>0.083983</td>\n",
       "      <td>0.141984</td>\n",
       "      <td>0.172597</td>\n",
       "      <td>0.184217</td>\n",
       "      <td>0.225041</td>\n",
       "      <td>1.000000</td>\n",
       "    </tr>\n",
       "  </tbody>\n",
       "</table>\n",
       "</div>"
      ],
      "text/plain": [
       "                                      id   host_id  latitude  longitude  \\\n",
       "id                              1.000000  0.591261 -0.002445   0.092199   \n",
       "host_id                         0.591261  1.000000  0.020077   0.129314   \n",
       "latitude                       -0.002445  0.020077  1.000000   0.082819   \n",
       "longitude                       0.092199  0.129314  0.082819   1.000000   \n",
       "price                           0.009364  0.013407  0.034243  -0.149165   \n",
       "minimum_nights                 -0.011869 -0.016550  0.026376  -0.061787   \n",
       "number_of_reviews              -0.319121 -0.141992 -0.010896   0.059188   \n",
       "reviews_per_month               0.292461  0.295881 -0.004768   0.143867   \n",
       "calculated_host_listings_count  0.132020  0.152545  0.020802  -0.114195   \n",
       "availability_365                0.085416  0.201772 -0.006414   0.087417   \n",
       "\n",
       "                                   price  minimum_nights  number_of_reviews  \\\n",
       "id                              0.009364       -0.011869          -0.319121   \n",
       "host_id                         0.013407       -0.016550          -0.141992   \n",
       "latitude                        0.034243        0.026376          -0.010896   \n",
       "longitude                      -0.149165       -0.061787           0.059188   \n",
       "price                           1.000000        0.037318          -0.047780   \n",
       "minimum_nights                  0.037318        1.000000          -0.078471   \n",
       "number_of_reviews              -0.047780       -0.078471           1.000000   \n",
       "reviews_per_month              -0.032975       -0.115527           0.547786   \n",
       "calculated_host_listings_count  0.056301        0.130441          -0.072237   \n",
       "availability_365                0.083983        0.141984           0.172597   \n",
       "\n",
       "                                reviews_per_month  \\\n",
       "id                                       0.292461   \n",
       "host_id                                  0.295881   \n",
       "latitude                                -0.004768   \n",
       "longitude                                0.143867   \n",
       "price                                   -0.032975   \n",
       "minimum_nights                          -0.115527   \n",
       "number_of_reviews                        0.547786   \n",
       "reviews_per_month                        1.000000   \n",
       "calculated_host_listings_count          -0.011055   \n",
       "availability_365                         0.184217   \n",
       "\n",
       "                                calculated_host_listings_count  \\\n",
       "id                                                    0.132020   \n",
       "host_id                                               0.152545   \n",
       "latitude                                              0.020802   \n",
       "longitude                                            -0.114195   \n",
       "price                                                 0.056301   \n",
       "minimum_nights                                        0.130441   \n",
       "number_of_reviews                                    -0.072237   \n",
       "reviews_per_month                                    -0.011055   \n",
       "calculated_host_listings_count                        1.000000   \n",
       "availability_365                                      0.225041   \n",
       "\n",
       "                                availability_365  \n",
       "id                                      0.085416  \n",
       "host_id                                 0.201772  \n",
       "latitude                               -0.006414  \n",
       "longitude                               0.087417  \n",
       "price                                   0.083983  \n",
       "minimum_nights                          0.141984  \n",
       "number_of_reviews                       0.172597  \n",
       "reviews_per_month                       0.184217  \n",
       "calculated_host_listings_count          0.225041  \n",
       "availability_365                        1.000000  "
      ]
     },
     "execution_count": 80,
     "metadata": {},
     "output_type": "execute_result"
    }
   ],
   "source": [
    "# 상관계수\n",
    "df = train.corr()\n",
    "df"
   ]
  },
  {
   "cell_type": "code",
   "execution_count": 81,
   "id": "3ce367bd",
   "metadata": {
    "scrolled": false
   },
   "outputs": [
    {
     "data": {
      "text/plain": [
       "<seaborn.matrix.ClusterGrid at 0x7f1c1129f430>"
      ]
     },
     "execution_count": 81,
     "metadata": {},
     "output_type": "execute_result"
    },
    {
     "data": {
      "image/png": "[encoded data removed]",
      "text/plain": [
       "<Figure size 720x720 with 4 Axes>"
      ]
     },
     "metadata": {
      "needs_background": "light"
     },
     "output_type": "display_data"
    }
   ],
   "source": [
    "# heatmap으로 상관관계 파악 \n",
    "sns.clustermap(df, annot = True, cmap = 'RdYlBu_r', vmin = -1, vmax = 1)"
   ]
  },
  {
   "cell_type": "markdown",
   "id": "c13dae69",
   "metadata": {},
   "source": [
    "#### <span style='color:green'> 전반적으로 price와 상관 관계가 높게 나타나지는 않지만, 그나마 availability 365와 calculated host listings count가 가장 상관관계가 높음을 알 수 있다.  </span>"
   ]
  },
  {
   "cell_type": "code",
   "execution_count": 82,
   "id": "59cb9036",
   "metadata": {
    "scrolled": true
   },
   "outputs": [
    {
     "data": {
      "image/png": "[encoded data removed]",
      "text/plain": [
       "<Figure size 1080x1080 with 2 Axes>"
      ]
     },
     "metadata": {
      "needs_background": "light"
     },
     "output_type": "display_data"
    }
   ],
   "source": [
    "# 가격과 그나마 상관관계가 있는 'calculated_host_listings_count', 'availability_365'과 price 간의 산포도 그래프 \n",
    "\n",
    "fig, ax = plt.subplots(nrows=2, ncols=1, figsize = (15, 15))\n",
    "\n",
    "ax[0].scatter(train['calculated_host_listings_count'], train['price'], label = \"data\", color='orange')\n",
    "ax[0].set_title('Correlation between Caculated Host Listings Count and Price')\n",
    "ax[0].set_xlabel('Caculated Host Listings Count')\n",
    "ax[0].set_ylabel('Price')\n",
    "              \n",
    "              \n",
    "ax[1].scatter(train['availability_365'], train['price'], label = \"data\", color='green')\n",
    "ax[1].set_title('Availability 365 and Price')\n",
    "ax[1].set_xlabel('Availability 365')\n",
    "ax[1].set_ylabel('Price')\n",
    "\n",
    "plt.show()\n",
    "\n"
   ]
  },
  {
   "cell_type": "markdown",
   "id": "d4233d19",
   "metadata": {},
   "source": [
    "####  <span style='color:green'> 전반적으로 Caculated Host Listings Count가 낮을수록 숙박비가 비싸다. 반면 Availability 365는 딱 숙박비와 비례하지는 않지만, </span>   \n",
    "#### <span style='color:green'>그래도 Availability 365가 높은 집의 숙박비가 비쌈을 확인할 수 있다. </span>"
   ]
  },
  {
   "cell_type": "code",
   "execution_count": 83,
   "id": "cd32b80a",
   "metadata": {},
   "outputs": [
    {
     "data": {
      "text/plain": [
       "219517861    256\n",
       "107434423    181\n",
       "30283594      99\n",
       "137358866     82\n",
       "12243051      80\n",
       "            ... \n",
       "73369106       1\n",
       "26620387       1\n",
       "176660539      1\n",
       "26004891       1\n",
       "2609535        1\n",
       "Name: host_id, Length: 30845, dtype: int64"
      ]
     },
     "execution_count": 83,
     "metadata": {},
     "output_type": "execute_result"
    }
   ],
   "source": [
    "# 피처(host_id)\n",
    "train['host_id'].value_counts()"
   ]
  },
  {
   "cell_type": "markdown",
   "id": "bc01813f",
   "metadata": {},
   "source": [
    "#### <span style='color:green'> 한 호스트가 많게는 256개의 집이나 방을 대여한다. 그러나 숙박비와 관계가 있지는 않은 것 같다. </span>"
   ]
  },
  {
   "cell_type": "markdown",
   "id": "f5a4a9ab",
   "metadata": {},
   "source": [
    "# 3. 데이터 전처리\n",
    "데이터를 살펴보고 판단하여 결측치 및 이상치를 처리\n",
    "\n",
    "#### <span style='background-color: #fff5b1'> 회고 : price 값의 범위를 상, 중, 하로 나눠 원핫인코딩을 해봤는데, test에는 price가 없어서 결국 시간만 많이 쓰고 다 지워버렸다. 머신 러닝을 돌릴 때 다른 컬럼들은 바꾸고 조정해도 되지만 타겟인 price는 건들지 않는게 좋다는건 배웠다. </span> "
   ]
  },
  {
   "cell_type": "code",
   "execution_count": 84,
   "id": "f3f17798",
   "metadata": {
    "scrolled": true
   },
   "outputs": [
    {
     "data": {
      "text/plain": [
       "id                                   0\n",
       "name                                12\n",
       "host_id                              0\n",
       "host_name                           17\n",
       "neighbourhood_group                  0\n",
       "neighbourhood                        0\n",
       "latitude                             0\n",
       "longitude                            0\n",
       "room_type                            0\n",
       "price                                0\n",
       "minimum_nights                       0\n",
       "number_of_reviews                    0\n",
       "last_review                       7994\n",
       "reviews_per_month                 7994\n",
       "calculated_host_listings_count       0\n",
       "availability_365                     0\n",
       "dtype: int64"
      ]
     },
     "execution_count": 84,
     "metadata": {},
     "output_type": "execute_result"
    }
   ],
   "source": [
    "# 결측치 확인\n",
    "train.isnull().sum()"
   ]
  },
  {
   "cell_type": "code",
   "execution_count": 85,
   "id": "27bd6d90",
   "metadata": {},
   "outputs": [],
   "source": [
    "# 결측치 컬럼 삭제 (last_review)\n",
    "train = train.drop('last_review', axis=1)\n",
    "test = test.drop('last_review', axis=1)"
   ]
  },
  {
   "cell_type": "code",
   "execution_count": 86,
   "id": "8c2317d3",
   "metadata": {},
   "outputs": [],
   "source": [
    "# 결측치 채우기\n",
    "train['reviews_per_month'] = train['reviews_per_month'].fillna(0)\n",
    "test['reviews_per_month'] = test['reviews_per_month'].fillna(0)"
   ]
  },
  {
   "cell_type": "code",
   "execution_count": 87,
   "id": "227f82f7",
   "metadata": {
    "scrolled": false
   },
   "outputs": [],
   "source": [
    "# 남은 결측치 0으로 채우기 \n",
    "train = train.fillna(0)\n",
    "test = test.fillna(0)"
   ]
  },
  {
   "cell_type": "code",
   "execution_count": 88,
   "id": "3dab663a",
   "metadata": {
    "scrolled": true
   },
   "outputs": [
    {
     "data": {
      "text/plain": [
       "id                                0\n",
       "name                              0\n",
       "host_id                           0\n",
       "host_name                         0\n",
       "neighbourhood_group               0\n",
       "neighbourhood                     0\n",
       "latitude                          0\n",
       "longitude                         0\n",
       "room_type                         0\n",
       "price                             0\n",
       "minimum_nights                    0\n",
       "number_of_reviews                 0\n",
       "reviews_per_month                 0\n",
       "calculated_host_listings_count    0\n",
       "availability_365                  0\n",
       "dtype: int64"
      ]
     },
     "execution_count": 88,
     "metadata": {},
     "output_type": "execute_result"
    }
   ],
   "source": [
    "# 결측치 확인\n",
    "train.isnull().sum()"
   ]
  },
  {
   "cell_type": "code",
   "execution_count": 89,
   "id": "0137c0b7",
   "metadata": {},
   "outputs": [],
   "source": [
    "# 가격 값 복사\n",
    "target = train['price']\n",
    "train = train.drop('price', axis=1)"
   ]
  },
  {
   "cell_type": "code",
   "execution_count": 90,
   "id": "e6ba446a",
   "metadata": {},
   "outputs": [],
   "source": [
    "# 수치형 피처 선택\n",
    "cols = [\n",
    "        'host_id',\n",
    "        'latitude', \n",
    "        'longitude', \n",
    "        'minimum_nights',\n",
    "        'number_of_reviews', \n",
    "        'reviews_per_month',\n",
    "        'calculated_host_listings_count',\n",
    "        'availability_365'    \n",
    "        ]\n",
    "\n",
    "train = train[cols]\n",
    "test = test[cols]"
   ]
  },
  {
   "cell_type": "markdown",
   "id": "a7822bd4",
   "metadata": {},
   "source": [
    "#### <span style='background-color: #fff5b1'> 회고 : 수치형 피처에 'calculated_host_listings_count', 'availability_365' 만 남기니 오히려 59000이 넘어 다시 바꿔주었다. </span> "
   ]
  },
  {
   "cell_type": "markdown",
   "id": "9ce2bfd4",
   "metadata": {},
   "source": [
    "# 4. 검증 데이터 분리\n",
    "Train 데이터로 학습(훈련), Validation(검증용) 데이터로 예측"
   ]
  },
  {
   "cell_type": "code",
   "execution_count": 91,
   "id": "5474a790",
   "metadata": {},
   "outputs": [
    {
     "data": {
      "text/plain": [
       "((29337, 8), (9779, 8), (29337,), (9779,))"
      ]
     },
     "execution_count": 91,
     "metadata": {},
     "output_type": "execute_result"
    }
   ],
   "source": [
    "# 검증 데이터 분리 test size=0.2, random state 2022 > (0.1, 1000) 6 > (0.2, 1000) 5.8만 > (0.25, 1000) 5.8만 > (0.2, 500) 3.5만 \n",
    "from sklearn.model_selection import train_test_split\n",
    "\n",
    "X_train, X_val, y_train, y_val = train_test_split(train, target, test_size=0.25, random_state=500)\n",
    "X_train.shape, X_val.shape, y_train.shape, y_val.shape"
   ]
  },
  {
   "cell_type": "markdown",
   "id": "b0ec1583",
   "metadata": {},
   "source": [
    "# 5. 머신러닝"
   ]
  },
  {
   "cell_type": "code",
   "execution_count": 92,
   "id": "966457b5",
   "metadata": {},
   "outputs": [
    {
     "data": {
      "text/plain": [
       "35507.76730599458"
      ]
     },
     "execution_count": 92,
     "metadata": {},
     "output_type": "execute_result"
    }
   ],
   "source": [
    "# 머신러닝(선형 회귀)\n",
    "from sklearn.linear_model import LinearRegression\n",
    "from sklearn.metrics import mean_squared_error\n",
    "\n",
    "model = LinearRegression()\n",
    "model.fit(X_train, y_train) # x_train에 있는 값을 보고 y_train 맞추기\n",
    "pred = model.predict(X_val)\n",
    "mean_squared_error(y_val, pred)"
   ]
  },
  {
   "cell_type": "code",
   "execution_count": 93,
   "id": "e5664bf9",
   "metadata": {},
   "outputs": [
    {
     "name": "stderr",
     "output_type": "stream",
     "text": [
      "/opt/conda/lib/python3.9/site-packages/sklearn/linear_model/_ridge.py:156: LinAlgWarning: Ill-conditioned matrix (rcond=3.05827e-19): result may not be accurate.\n",
      "  return linalg.solve(A, Xy, sym_pos=True, overwrite_a=True).T\n"
     ]
    },
    {
     "data": {
      "text/plain": [
       "35507.22730755523"
      ]
     },
     "execution_count": 93,
     "metadata": {},
     "output_type": "execute_result"
    }
   ],
   "source": [
    "# 릿지 회귀\n",
    "from sklearn.linear_model import Ridge\n",
    "\n",
    "model = Ridge(alpha=1)\n",
    "model.fit(X_train, y_train)\n",
    "pred = model.predict(X_val)\n",
    "mean_squared_error(y_val, pred)"
   ]
  },
  {
   "cell_type": "code",
   "execution_count": 94,
   "id": "8b41341a",
   "metadata": {},
   "outputs": [
    {
     "data": {
      "text/html": [
       "<div>\n",
       "<style scoped>\n",
       "    .dataframe tbody tr th:only-of-type {\n",
       "        vertical-align: middle;\n",
       "    }\n",
       "\n",
       "    .dataframe tbody tr th {\n",
       "        vertical-align: top;\n",
       "    }\n",
       "\n",
       "    .dataframe thead th {\n",
       "        text-align: right;\n",
       "    }\n",
       "</style>\n",
       "<table border=\"1\" class=\"dataframe\">\n",
       "  <thead>\n",
       "    <tr style=\"text-align: right;\">\n",
       "      <th></th>\n",
       "      <th>alpha1</th>\n",
       "    </tr>\n",
       "  </thead>\n",
       "  <tbody>\n",
       "    <tr>\n",
       "      <th>host_id</th>\n",
       "      <td>2.431389e-08</td>\n",
       "    </tr>\n",
       "    <tr>\n",
       "      <th>latitude</th>\n",
       "      <td>1.991676e+02</td>\n",
       "    </tr>\n",
       "    <tr>\n",
       "      <th>longitude</th>\n",
       "      <td>-8.083775e+02</td>\n",
       "    </tr>\n",
       "    <tr>\n",
       "      <th>minimum_nights</th>\n",
       "      <td>8.574863e-02</td>\n",
       "    </tr>\n",
       "    <tr>\n",
       "      <th>number_of_reviews</th>\n",
       "      <td>-2.279354e-01</td>\n",
       "    </tr>\n",
       "    <tr>\n",
       "      <th>reviews_per_month</th>\n",
       "      <td>-3.861085e+00</td>\n",
       "    </tr>\n",
       "    <tr>\n",
       "      <th>calculated_host_listings_count</th>\n",
       "      <td>5.263933e-02</td>\n",
       "    </tr>\n",
       "    <tr>\n",
       "      <th>availability_365</th>\n",
       "      <td>2.020718e-01</td>\n",
       "    </tr>\n",
       "  </tbody>\n",
       "</table>\n",
       "</div>"
      ],
      "text/plain": [
       "                                      alpha1\n",
       "host_id                         2.431389e-08\n",
       "latitude                        1.991676e+02\n",
       "longitude                      -8.083775e+02\n",
       "minimum_nights                  8.574863e-02\n",
       "number_of_reviews              -2.279354e-01\n",
       "reviews_per_month              -3.861085e+00\n",
       "calculated_host_listings_count  5.263933e-02\n",
       "availability_365                2.020718e-01"
      ]
     },
     "execution_count": 94,
     "metadata": {},
     "output_type": "execute_result"
    }
   ],
   "source": [
    "# 회귀 계수\n",
    "coef = pd.DataFrame(data=model.coef_, index=X_train.columns, columns=['alpha1'])\n",
    "coef"
   ]
  },
  {
   "cell_type": "code",
   "execution_count": 95,
   "id": "2e2ce571",
   "metadata": {},
   "outputs": [
    {
     "name": "stderr",
     "output_type": "stream",
     "text": [
      "/opt/conda/lib/python3.9/site-packages/sklearn/linear_model/_ridge.py:156: LinAlgWarning: Ill-conditioned matrix (rcond=3.54113e-19): result may not be accurate.\n",
      "  return linalg.solve(A, Xy, sym_pos=True, overwrite_a=True).T\n"
     ]
    },
    {
     "data": {
      "text/plain": [
       "35530.50474860543"
      ]
     },
     "execution_count": 95,
     "metadata": {},
     "output_type": "execute_result"
    }
   ],
   "source": [
    "# 릿지 회귀 (alpha=10)\n",
    "model = Ridge(alpha=10)\n",
    "model.fit(X_train, y_train)\n",
    "pred = model.predict(X_val)\n",
    "mean_squared_error(y_val, pred)"
   ]
  },
  {
   "cell_type": "code",
   "execution_count": 96,
   "id": "5ca626bd",
   "metadata": {
    "scrolled": true
   },
   "outputs": [
    {
     "data": {
      "text/html": [
       "<div>\n",
       "<style scoped>\n",
       "    .dataframe tbody tr th:only-of-type {\n",
       "        vertical-align: middle;\n",
       "    }\n",
       "\n",
       "    .dataframe tbody tr th {\n",
       "        vertical-align: top;\n",
       "    }\n",
       "\n",
       "    .dataframe thead th {\n",
       "        text-align: right;\n",
       "    }\n",
       "</style>\n",
       "<table border=\"1\" class=\"dataframe\">\n",
       "  <thead>\n",
       "    <tr style=\"text-align: right;\">\n",
       "      <th></th>\n",
       "      <th>alpha1</th>\n",
       "      <th>alpha10</th>\n",
       "    </tr>\n",
       "  </thead>\n",
       "  <tbody>\n",
       "    <tr>\n",
       "      <th>host_id</th>\n",
       "      <td>2.431389e-08</td>\n",
       "      <td>1.799763e-08</td>\n",
       "    </tr>\n",
       "    <tr>\n",
       "      <th>latitude</th>\n",
       "      <td>1.991676e+02</td>\n",
       "      <td>1.735712e+02</td>\n",
       "    </tr>\n",
       "    <tr>\n",
       "      <th>longitude</th>\n",
       "      <td>-8.083775e+02</td>\n",
       "      <td>-7.013821e+02</td>\n",
       "    </tr>\n",
       "    <tr>\n",
       "      <th>minimum_nights</th>\n",
       "      <td>8.574863e-02</td>\n",
       "      <td>9.807015e-02</td>\n",
       "    </tr>\n",
       "    <tr>\n",
       "      <th>number_of_reviews</th>\n",
       "      <td>-2.279354e-01</td>\n",
       "      <td>-2.272047e-01</td>\n",
       "    </tr>\n",
       "    <tr>\n",
       "      <th>reviews_per_month</th>\n",
       "      <td>-3.861085e+00</td>\n",
       "      <td>-4.136095e+00</td>\n",
       "    </tr>\n",
       "    <tr>\n",
       "      <th>calculated_host_listings_count</th>\n",
       "      <td>5.263933e-02</td>\n",
       "      <td>7.487678e-02</td>\n",
       "    </tr>\n",
       "    <tr>\n",
       "      <th>availability_365</th>\n",
       "      <td>2.020718e-01</td>\n",
       "      <td>1.982148e-01</td>\n",
       "    </tr>\n",
       "  </tbody>\n",
       "</table>\n",
       "</div>"
      ],
      "text/plain": [
       "                                      alpha1       alpha10\n",
       "host_id                         2.431389e-08  1.799763e-08\n",
       "latitude                        1.991676e+02  1.735712e+02\n",
       "longitude                      -8.083775e+02 -7.013821e+02\n",
       "minimum_nights                  8.574863e-02  9.807015e-02\n",
       "number_of_reviews              -2.279354e-01 -2.272047e-01\n",
       "reviews_per_month              -3.861085e+00 -4.136095e+00\n",
       "calculated_host_listings_count  5.263933e-02  7.487678e-02\n",
       "availability_365                2.020718e-01  1.982148e-01"
      ]
     },
     "execution_count": 96,
     "metadata": {},
     "output_type": "execute_result"
    }
   ],
   "source": [
    "# 회귀 계수 (alpha 10)\n",
    "coef['alpha10'] = model.coef_\n",
    "coef"
   ]
  },
  {
   "cell_type": "code",
   "execution_count": 97,
   "id": "b8e7eff4",
   "metadata": {},
   "outputs": [
    {
     "name": "stderr",
     "output_type": "stream",
     "text": [
      "/opt/conda/lib/python3.9/site-packages/sklearn/linear_model/_ridge.py:156: LinAlgWarning: Ill-conditioned matrix (rcond=3.0074e-19): result may not be accurate.\n",
      "  return linalg.solve(A, Xy, sym_pos=True, overwrite_a=True).T\n"
     ]
    },
    {
     "data": {
      "text/plain": [
       "35507.72001533766"
      ]
     },
     "execution_count": 97,
     "metadata": {},
     "output_type": "execute_result"
    }
   ],
   "source": [
    "# 릿지 회귀 (alpha=0.05)\n",
    "model = Ridge(alpha=0.05)\n",
    "model.fit(X_train, y_train)\n",
    "pred = model.predict(X_val)\n",
    "mean_squared_error(y_val, pred)"
   ]
  },
  {
   "cell_type": "code",
   "execution_count": 98,
   "id": "3b8a5085",
   "metadata": {
    "scrolled": true
   },
   "outputs": [
    {
     "data": {
      "text/html": [
       "<div>\n",
       "<style scoped>\n",
       "    .dataframe tbody tr th:only-of-type {\n",
       "        vertical-align: middle;\n",
       "    }\n",
       "\n",
       "    .dataframe tbody tr th {\n",
       "        vertical-align: top;\n",
       "    }\n",
       "\n",
       "    .dataframe thead th {\n",
       "        text-align: right;\n",
       "    }\n",
       "</style>\n",
       "<table border=\"1\" class=\"dataframe\">\n",
       "  <thead>\n",
       "    <tr style=\"text-align: right;\">\n",
       "      <th></th>\n",
       "      <th>alpha1</th>\n",
       "      <th>alpha10</th>\n",
       "      <th>alpha0.05</th>\n",
       "    </tr>\n",
       "  </thead>\n",
       "  <tbody>\n",
       "    <tr>\n",
       "      <th>host_id</th>\n",
       "      <td>2.431389e-08</td>\n",
       "      <td>1.799763e-08</td>\n",
       "      <td>2.509489e-08</td>\n",
       "    </tr>\n",
       "    <tr>\n",
       "      <th>latitude</th>\n",
       "      <td>1.991676e+02</td>\n",
       "      <td>1.735712e+02</td>\n",
       "      <td>2.023216e+02</td>\n",
       "    </tr>\n",
       "    <tr>\n",
       "      <th>longitude</th>\n",
       "      <td>-8.083775e+02</td>\n",
       "      <td>-7.013821e+02</td>\n",
       "      <td>-8.216062e+02</td>\n",
       "    </tr>\n",
       "    <tr>\n",
       "      <th>minimum_nights</th>\n",
       "      <td>8.574863e-02</td>\n",
       "      <td>9.807015e-02</td>\n",
       "      <td>8.422592e-02</td>\n",
       "    </tr>\n",
       "    <tr>\n",
       "      <th>number_of_reviews</th>\n",
       "      <td>-2.279354e-01</td>\n",
       "      <td>-2.272047e-01</td>\n",
       "      <td>-2.280262e-01</td>\n",
       "    </tr>\n",
       "    <tr>\n",
       "      <th>reviews_per_month</th>\n",
       "      <td>-3.861085e+00</td>\n",
       "      <td>-4.136095e+00</td>\n",
       "      <td>-3.827067e+00</td>\n",
       "    </tr>\n",
       "    <tr>\n",
       "      <th>calculated_host_listings_count</th>\n",
       "      <td>5.263933e-02</td>\n",
       "      <td>7.487678e-02</td>\n",
       "      <td>4.989028e-02</td>\n",
       "    </tr>\n",
       "    <tr>\n",
       "      <th>availability_365</th>\n",
       "      <td>2.020718e-01</td>\n",
       "      <td>1.982148e-01</td>\n",
       "      <td>2.025485e-01</td>\n",
       "    </tr>\n",
       "  </tbody>\n",
       "</table>\n",
       "</div>"
      ],
      "text/plain": [
       "                                      alpha1       alpha10     alpha0.05\n",
       "host_id                         2.431389e-08  1.799763e-08  2.509489e-08\n",
       "latitude                        1.991676e+02  1.735712e+02  2.023216e+02\n",
       "longitude                      -8.083775e+02 -7.013821e+02 -8.216062e+02\n",
       "minimum_nights                  8.574863e-02  9.807015e-02  8.422592e-02\n",
       "number_of_reviews              -2.279354e-01 -2.272047e-01 -2.280262e-01\n",
       "reviews_per_month              -3.861085e+00 -4.136095e+00 -3.827067e+00\n",
       "calculated_host_listings_count  5.263933e-02  7.487678e-02  4.989028e-02\n",
       "availability_365                2.020718e-01  1.982148e-01  2.025485e-01"
      ]
     },
     "execution_count": 98,
     "metadata": {},
     "output_type": "execute_result"
    }
   ],
   "source": [
    "# 회귀 계수 (alpha 0.05)\n",
    "coef['alpha0.05'] = model.coef_\n",
    "coef"
   ]
  },
  {
   "cell_type": "markdown",
   "id": "d444aa48",
   "metadata": {},
   "source": [
    "#### <span style='background-color: #fff5b1'>회고: 회귀계수를 바꿔봐도 값이 크게 바뀌지는 않아서 하이퍼파라미터 튜닝을 해야겠다고 생각했다. </span>"
   ]
  },
  {
   "cell_type": "code",
   "execution_count": 99,
   "id": "52c7136c",
   "metadata": {},
   "outputs": [
    {
     "data": {
      "text/plain": [
       "36097.76939111903"
      ]
     },
     "execution_count": 99,
     "metadata": {},
     "output_type": "execute_result"
    }
   ],
   "source": [
    "# 라쏘 회귀\n",
    "from sklearn.linear_model import Lasso\n",
    "\n",
    "model = Lasso()\n",
    "model.fit(X_train, y_train)\n",
    "pred = model.predict(X_val)\n",
    "mean_squared_error(y_val, pred)"
   ]
  },
  {
   "cell_type": "code",
   "execution_count": 100,
   "id": "c9ea08a3",
   "metadata": {},
   "outputs": [
    {
     "data": {
      "text/plain": [
       "36883.23765337072"
      ]
     },
     "execution_count": 100,
     "metadata": {},
     "output_type": "execute_result"
    }
   ],
   "source": [
    "# 엘라스틱넷 회귀\n",
    "from sklearn.linear_model import ElasticNet\n",
    "\n",
    "model = ElasticNet()\n",
    "model.fit(X_train, y_train)\n",
    "pred = model.predict(X_val)\n",
    "mean_squared_error(y_val, pred)"
   ]
  },
  {
   "cell_type": "code",
   "execution_count": 101,
   "id": "ec6878dd",
   "metadata": {},
   "outputs": [
    {
     "data": {
      "text/plain": [
       "34996.538858145"
      ]
     },
     "execution_count": 101,
     "metadata": {},
     "output_type": "execute_result"
    }
   ],
   "source": [
    "# 랜덤포레스트\n",
    "from sklearn.ensemble import RandomForestRegressor\n",
    "\n",
    "model = RandomForestRegressor(random_state=2022)\n",
    "model.fit(X_train, y_train)\n",
    "pred = model.predict(X_val)\n",
    "mean_squared_error(y_val, pred)"
   ]
  },
  {
   "cell_type": "code",
   "execution_count": 103,
   "id": "9019504d",
   "metadata": {},
   "outputs": [
    {
     "data": {
      "text/plain": [
       "37824.58526183416"
      ]
     },
     "execution_count": 103,
     "metadata": {},
     "output_type": "execute_result"
    }
   ],
   "source": [
    "# Xgboost\n",
    "from xgboost import XGBRegressor\n",
    "model = XGBRegressor(random_state=2022)\n",
    "\n",
    "model.fit(X_train, y_train)\n",
    "pred = model.predict(X_val)\n",
    "mean_squared_error(y_val, pred)"
   ]
  },
  {
   "cell_type": "markdown",
   "id": "d7d54dfb",
   "metadata": {},
   "source": [
    "#### <span style='background-color: #fff5b1'>회고 : random_state 값을 바꿔보았는데 값의 차이가 없어서 되돌렸다. </span>"
   ]
  },
  {
   "cell_type": "code",
   "execution_count": 104,
   "id": "7560dc7c",
   "metadata": {
    "scrolled": true
   },
   "outputs": [
    {
     "name": "stderr",
     "output_type": "stream",
     "text": [
      "/opt/conda/lib/python3.9/site-packages/pkg_resources/__init__.py:122: PkgResourcesDeprecationWarning: 0.996-ko-0.9.2 is an invalid version and will not be supported in a future release\n",
      "  warnings.warn(\n",
      "/opt/conda/lib/python3.9/site-packages/pkg_resources/__init__.py:122: PkgResourcesDeprecationWarning: 0.996-ko-0.9.2 is an invalid version and will not be supported in a future release\n",
      "  warnings.warn(\n"
     ]
    },
    {
     "data": {
      "text/plain": [
       "{'subsample': 0.7, 'n_estimators': 200, 'max_depth': 5, 'learning_rate': 0.05}"
      ]
     },
     "execution_count": 104,
     "metadata": {},
     "output_type": "execute_result"
    }
   ],
   "source": [
    "# 하이퍼파라미터 튜닝\n",
    "from sklearn.model_selection import RandomizedSearchCV\n",
    "\n",
    "# 하이퍼파라미터\n",
    "params={'learning_rate':[0.07, 0.05], \n",
    "        'max_depth':[3, 5, 7], \n",
    "        'n_estimators':[100, 200],\n",
    "        'subsample':[0.9, 0.8, 0.7]\n",
    "        }\n",
    "\n",
    "#  Randomized Search\n",
    "model = XGBRegressor()\n",
    "grid = RandomizedSearchCV(model, params, cv=3, n_iter=10, n_jobs=-1) # n_iter 돌리는 횟수, n_jobs 코어 최대한 씀 \n",
    "grid.fit(X_train, y_train)\n",
    "\n",
    "# 최적의 하이퍼파라미터를 찾음\n",
    "grid.best_params_"
   ]
  },
  {
   "cell_type": "code",
   "execution_count": 105,
   "id": "9c90a5fc",
   "metadata": {},
   "outputs": [
    {
     "data": {
      "text/plain": [
       "35973.49913909357"
      ]
     },
     "execution_count": 105,
     "metadata": {},
     "output_type": "execute_result"
    }
   ],
   "source": [
    "# 최적의 하이퍼파라미터 적용 \n",
    "model = XGBRegressor(random_state=2022, \n",
    "                      max_depth = 5,\n",
    "                      learning_rate = 0.05,\n",
    "                      n_estimators = 200,\n",
    "                      subsample = 0.7   \n",
    "                  \n",
    "                      \n",
    "# - booster(기본값 gbtree): 부스팅 알고리즘 (또는 dart, gblinear)\n",
    "# - objective(기본값 binary:logistic): 이진분류 (다중분류: multi:softmax)\n",
    "# - max_depth(기본값 6): 최대 한도 깊이\n",
    "# - learning_rate(기본값 0.1): 학습률\n",
    "# - n_estimators(기본값 100): 트리의 수\n",
    "# - subsample(기본값 1): 훈련 샘플 개수의 비율\n",
    "# - colsample_bytree(기본값 1): 특성 개수의 비율\n",
    "# - n_jobs(기본값 1): 사용 코어 수 (-1: 모든 코어를 다 사용)\n",
    "                     )\n",
    "model.fit(X_train, y_train)\n",
    "pred = model.predict(X_val)\n",
    "mean_squared_error(y_val, pred)"
   ]
  },
  {
   "cell_type": "markdown",
   "id": "eb249490",
   "metadata": {},
   "source": [
    "#### <span style='background-color: #fff5b1'>회고 : Radomized Search로 찾은 최적의 하이퍼파라미터를 적용해보았다. "
   ]
  },
  {
   "cell_type": "markdown",
   "id": "af3f02bc",
   "metadata": {},
   "source": [
    "# 6. 채점"
   ]
  },
  {
   "cell_type": "code",
   "execution_count": 106,
   "id": "09194002",
   "metadata": {},
   "outputs": [
    {
     "data": {
      "text/plain": [
       "48069.02106372639"
      ]
     },
     "execution_count": 106,
     "metadata": {},
     "output_type": "execute_result"
    }
   ],
   "source": [
    "# test 데이터 예측 및 평가(MSE)\n",
    "y_test = pd.read_csv('/aiffel/data/y_test.csv')\n",
    "\n",
    "# Xgboost\n",
    "pred = model.predict(test)\n",
    "mean_squared_error(y_test, pred)"
   ]
  },
  {
   "cell_type": "markdown",
   "id": "61ca88b9",
   "metadata": {},
   "source": [
    "# 7. 총 회고 \n",
    "\n",
    "price와 관련있는 요소를 찾고 싶었는데, 생각보다 상관관계가 없었다. 그래서 다른 방식으로 해결해보고 싶어서, price를 기술통계 기준으로 상, 중, 하로 나눠보는 시도를 했다. train에서는 성공적으로 if문을 만들어 상, 중, 하를 나누고 원핫 인코딩을 거쳐 새로운 컬럼으로 추가할 수 있었는데, test에는 애초에 price 컬럼이 없어 숙박비의 범위를 나눌 수 없었다. 그래서 목요일 오후 내내 시간 쓴 부분을 눈물을 머금고 도려냈다ㅠ   \n",
    "\n",
    "그 뒤로도 여러가지 시도를 해봤지만 MSE Score가 크게 달라지지 않았다. 이 파일이 ver.5 다. 그나마 하이퍼파라미터 튜닝을 하고 4.9만에서 4.8만으로 낮아졌다.(상, 중, 하로 나눴을 때는 이상하게 8000대가 나왔다) 그 이상 낮출 방법이 생각이 안나서 답답하다. tip도 참고해봤지만 기본적인 이해가 부족한 상황에서 다른 정보가 들어오니 오히려 이해해야 할 것이 늘어나 머리가 복잡해졌다.    \n",
    "\n",
    "프로젝트를 하면서 노드를 전체적으로 다시 봤지만 아직 머신 러닝의 플로우가 잘 이해되지는 않는다. 인터넷이나 책에서 조금 더 기초적인 자료를 찾아봐야 할 것 같다. 과연 다음주에는 그 주의 노드를 잘 이해하고 프로젝트에서 덜 헤맬 수 있을지..? 매일의 분량을 따라가기도 급급하다. "
   ]
  }
 ],
 "metadata": {
  "kernelspec": {
   "display_name": "Python 3 (ipykernel)",
   "language": "python",
   "name": "python3"
  },
  "language_info": {
   "codemirror_mode": {
    "name": "ipython",
    "version": 3
   },
   "file_extension": ".py",
   "mimetype": "text/x-python",
   "name": "python",
   "nbconvert_exporter": "python",
   "pygments_lexer": "ipython3",
   "version": "3.9.7"
  }
 },
 "nbformat": 4,
 "nbformat_minor": 5
}
