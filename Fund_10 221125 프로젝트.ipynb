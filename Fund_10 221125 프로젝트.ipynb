{
 "cells": [
  {
   "cell_type": "code",
   "execution_count": 1,
   "id": "a05688ee",
   "metadata": {},
   "outputs": [],
   "source": [
    "# 10-2 프로젝트 1\n",
    "numbers = '010-12345-23456'\n",
    "\n",
    "def change_num(nums):\n",
    "    return answer"
   ]
  },
  {
   "cell_type": "code",
   "execution_count": 2,
   "id": "39890359",
   "metadata": {},
   "outputs": [
    {
     "data": {
      "text/plain": [
       "str"
      ]
     },
     "execution_count": 2,
     "metadata": {},
     "output_type": "execute_result"
    }
   ],
   "source": [
    "type(numbers)"
   ]
  },
  {
   "cell_type": "code",
   "execution_count": 3,
   "id": "21655a8a",
   "metadata": {},
   "outputs": [
    {
     "data": {
      "text/plain": [
       "'23456'"
      ]
     },
     "execution_count": 3,
     "metadata": {},
     "output_type": "execute_result"
    }
   ],
   "source": [
    "numbers[-5:]"
   ]
  },
  {
   "cell_type": "code",
   "execution_count": 4,
   "id": "d48cbbcf",
   "metadata": {
    "scrolled": true
   },
   "outputs": [
    {
     "data": {
      "text/plain": [
       "'12345'"
      ]
     },
     "execution_count": 4,
     "metadata": {},
     "output_type": "execute_result"
    }
   ],
   "source": [
    "numbers[-11:-6]"
   ]
  },
  {
   "cell_type": "code",
   "execution_count": 5,
   "id": "999b8093",
   "metadata": {},
   "outputs": [
    {
     "data": {
      "text/plain": [
       "'010-12345-#####'"
      ]
     },
     "execution_count": 5,
     "metadata": {},
     "output_type": "execute_result"
    }
   ],
   "source": [
    "numbers.replace(numbers[-5:], '#####')"
   ]
  },
  {
   "cell_type": "code",
   "execution_count": 9,
   "id": "50041b96",
   "metadata": {},
   "outputs": [
    {
     "data": {
      "text/plain": [
       "'010-12345-#####'"
      ]
     },
     "execution_count": 9,
     "metadata": {},
     "output_type": "execute_result"
    }
   ],
   "source": [
    "numbers.replace(numbers[-5:], '#####')"
   ]
  },
  {
   "cell_type": "code",
   "execution_count": 10,
   "id": "27564a0d",
   "metadata": {},
   "outputs": [],
   "source": [
    "def change_num(nums):\n",
    "    answer = nums.replace(nums[-5:], '#####')\n",
    "    return answer"
   ]
  },
  {
   "cell_type": "code",
   "execution_count": 12,
   "id": "810c7033",
   "metadata": {},
   "outputs": [
    {
     "data": {
      "text/plain": [
       "'010-98765-#####'"
      ]
     },
     "execution_count": 12,
     "metadata": {},
     "output_type": "execute_result"
    }
   ],
   "source": [
    "change_num('010-98765-12345')"
   ]
  },
  {
   "cell_type": "code",
   "execution_count": 11,
   "id": "a707065f",
   "metadata": {},
   "outputs": [
    {
     "data": {
      "text/plain": [
       "'010-12345-#####'"
      ]
     },
     "execution_count": 11,
     "metadata": {},
     "output_type": "execute_result"
    }
   ],
   "source": [
    "change_num(numbers)"
   ]
  },
  {
   "cell_type": "code",
   "execution_count": 13,
   "id": "40eeedaf",
   "metadata": {},
   "outputs": [],
   "source": [
    "# 10-3 프로젝트 2\n",
    "overlap = [[1,2], 3, [[4, 5, 6], 7], 8, 9]"
   ]
  },
  {
   "cell_type": "code",
   "execution_count": 14,
   "id": "c0cebde4",
   "metadata": {},
   "outputs": [
    {
     "name": "stdout",
     "output_type": "stream",
     "text": [
      "[1, 2]\n",
      "3\n",
      "[[4, 5, 6], 7]\n",
      "8\n",
      "9\n"
     ]
    }
   ],
   "source": [
    "overlap = [[1,2], 3, [[4, 5, 6], 7], 8, 9]\n",
    "\n",
    "for element in overlap:\n",
    "    print(element)"
   ]
  },
  {
   "cell_type": "code",
   "execution_count": 15,
   "id": "d64ebe00",
   "metadata": {},
   "outputs": [],
   "source": [
    "a = [[1,2], 3, [[4, 5, 6], 7], 8, 9]\n",
    "def flatten(data):\n",
    "    return output"
   ]
  },
  {
   "cell_type": "code",
   "execution_count": 16,
   "id": "ad6f7b78",
   "metadata": {},
   "outputs": [
    {
     "data": {
      "text/plain": [
       "list"
      ]
     },
     "execution_count": 16,
     "metadata": {},
     "output_type": "execute_result"
    }
   ],
   "source": [
    "type(a[0])"
   ]
  },
  {
   "cell_type": "code",
   "execution_count": 22,
   "id": "1945dcbb",
   "metadata": {},
   "outputs": [],
   "source": [
    "def flatten(data):\n",
    "    output = []\n",
    "    for item in data:\n",
    "        if type(item) == list:\n",
    "            output += flatten(item)\n",
    "        else:\n",
    "            output.append(item)\n",
    "    return output"
   ]
  },
  {
   "cell_type": "code",
   "execution_count": 23,
   "id": "e7d4dba3",
   "metadata": {},
   "outputs": [
    {
     "data": {
      "text/plain": [
       "[1, 2, 3, 4, 5, 6, 7, 8, 9]"
      ]
     },
     "execution_count": 23,
     "metadata": {},
     "output_type": "execute_result"
    }
   ],
   "source": [
    "a = [[1,2], 3, [[4, 5, 6], 7], 8, 9]\n",
    "flatten(a)"
   ]
  },
  {
   "cell_type": "code",
   "execution_count": 24,
   "id": "5d9e0407",
   "metadata": {},
   "outputs": [
    {
     "name": "stdout",
     "output_type": "stream",
     "text": [
      "정수입니다.\n"
     ]
    }
   ],
   "source": [
    "# 10-4 프로젝트 3\n",
    "x = 10\n",
    "\n",
    "if type(x) == int:\n",
    "    print('정수입니다.')"
   ]
  },
  {
   "cell_type": "code",
   "execution_count": 25,
   "id": "86a2e94a",
   "metadata": {},
   "outputs": [],
   "source": [
    "x = 10.0\n",
    "\n",
    "if type(x) == int:\n",
    "    print('정수입니다.')"
   ]
  },
  {
   "cell_type": "code",
   "execution_count": 26,
   "id": "96dec534",
   "metadata": {},
   "outputs": [
    {
     "name": "stdout",
     "output_type": "stream",
     "text": [
      "정수입니다.\n"
     ]
    }
   ],
   "source": [
    "x = 1 \n",
    "if x % 1 == 0:\n",
    "    print('정수입니다.')"
   ]
  },
  {
   "cell_type": "code",
   "execution_count": 27,
   "id": "2212954e",
   "metadata": {},
   "outputs": [
    {
     "name": "stdout",
     "output_type": "stream",
     "text": [
      "정수입니다.\n"
     ]
    }
   ],
   "source": [
    "x = 10.0\n",
    "\n",
    "if x % 1 == 0:\n",
    "    print('정수입니다.')"
   ]
  },
  {
   "cell_type": "code",
   "execution_count": 28,
   "id": "91dab836",
   "metadata": {},
   "outputs": [],
   "source": [
    "def int_divider(x, y):\n",
    "    if x % 1 == 0 and y % 1 == 0:\n",
    "        answer = x / y\n",
    "    else:\n",
    "        print('정수만 계산 가능합니다.')\n",
    "        answer = None\n",
    "    return answer"
   ]
  },
  {
   "cell_type": "code",
   "execution_count": 29,
   "id": "5fae2fba",
   "metadata": {},
   "outputs": [
    {
     "data": {
      "text/plain": [
       "3.3333333333333335"
      ]
     },
     "execution_count": 29,
     "metadata": {},
     "output_type": "execute_result"
    }
   ],
   "source": [
    "int_divider(10,3)"
   ]
  },
  {
   "cell_type": "code",
   "execution_count": 30,
   "id": "93a32ae6",
   "metadata": {},
   "outputs": [
    {
     "name": "stdout",
     "output_type": "stream",
     "text": [
      "정수만 계산 가능합니다.\n"
     ]
    }
   ],
   "source": [
    "int_divider(-1, 0.9)"
   ]
  },
  {
   "cell_type": "code",
   "execution_count": 31,
   "id": "498403ba",
   "metadata": {},
   "outputs": [
    {
     "data": {
      "text/plain": [
       "3.0"
      ]
     },
     "execution_count": 31,
     "metadata": {},
     "output_type": "execute_result"
    }
   ],
   "source": [
    "int_divider(6.0, 2)"
   ]
  },
  {
   "cell_type": "code",
   "execution_count": 32,
   "id": "f40c08cb",
   "metadata": {},
   "outputs": [],
   "source": [
    "def mul(*values):\n",
    "    return output"
   ]
  },
  {
   "cell_type": "code",
   "execution_count": 33,
   "id": "5439f66a",
   "metadata": {},
   "outputs": [],
   "source": [
    "def mul(*values):\n",
    "    output = 1\n",
    "    for num in values:\n",
    "        output *= num"
   ]
  },
  {
   "cell_type": "code",
   "execution_count": 34,
   "id": "3bbe0cfc",
   "metadata": {},
   "outputs": [],
   "source": [
    "def mul(*values):\n",
    "    output = 1\n",
    "    for num in values:\n",
    "        if num <= 10:\n",
    "            output *= num"
   ]
  },
  {
   "cell_type": "code",
   "execution_count": 35,
   "id": "aed2b8f0",
   "metadata": {},
   "outputs": [],
   "source": [
    "def mul(*values):\n",
    "    output = 1\n",
    "    for num in values:\n",
    "        if num <=10:\n",
    "            output *= num\n",
    "        else:\n",
    "            pass\n",
    "    return output"
   ]
  },
  {
   "cell_type": "code",
   "execution_count": 36,
   "id": "85b989ca",
   "metadata": {},
   "outputs": [
    {
     "data": {
      "text/plain": [
       "120"
      ]
     },
     "execution_count": 36,
     "metadata": {},
     "output_type": "execute_result"
    }
   ],
   "source": [
    "mul(2, 3, 4, 5)"
   ]
  },
  {
   "cell_type": "code",
   "execution_count": 37,
   "id": "c70a52ab",
   "metadata": {},
   "outputs": [
    {
     "data": {
      "text/plain": [
       "30"
      ]
     },
     "execution_count": 37,
     "metadata": {},
     "output_type": "execute_result"
    }
   ],
   "source": [
    "mul(3, 12, 10)"
   ]
  }
 ],
 "metadata": {
  "kernelspec": {
   "display_name": "Python 3 (ipykernel)",
   "language": "python",
   "name": "python3"
  },
  "language_info": {
   "codemirror_mode": {
    "name": "ipython",
    "version": 3
   },
   "file_extension": ".py",
   "mimetype": "text/x-python",
   "name": "python",
   "nbconvert_exporter": "python",
   "pygments_lexer": "ipython3",
   "version": "3.9.7"
  }
 },
 "nbformat": 4,
 "nbformat_minor": 5
}
